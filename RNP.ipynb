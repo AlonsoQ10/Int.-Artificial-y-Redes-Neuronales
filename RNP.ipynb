{
  "nbformat": 4,
  "nbformat_minor": 0,
  "metadata": {
    "colab": {
      "provenance": [],
      "authorship_tag": "ABX9TyP/a/Hm4ceIXACrzFtolPkV",
      "include_colab_link": true
    },
    "kernelspec": {
      "name": "python3",
      "display_name": "Python 3"
    },
    "language_info": {
      "name": "python"
    }
  },
  "cells": [
    {
      "cell_type": "markdown",
      "metadata": {
        "id": "view-in-github",
        "colab_type": "text"
      },
      "source": [
        "<a href=\"https://colab.research.google.com/github/AlonsoQ10/Int.-Artificial-y-Redes-Neuronales/blob/main/RNP.ipynb\" target=\"_parent\"><img src=\"https://colab.research.google.com/assets/colab-badge.svg\" alt=\"Open In Colab\"/></a>"
      ]
    },
    {
      "cell_type": "code",
      "execution_count": 1,
      "metadata": {
        "colab": {
          "base_uri": "https://localhost:8080/"
        },
        "id": "E8QvwX_LrBpO",
        "outputId": "ec3d1e29-9cc3-4ede-edb0-2bed5289cc4c"
      },
      "outputs": [
        {
          "output_type": "stream",
          "name": "stdout",
          "text": [
            "Downloading data from https://storage.googleapis.com/tensorflow/tf-keras-datasets/mnist.npz\n",
            "11490434/11490434 [==============================] - 0s 0us/step\n",
            "Epoch 1/5\n",
            "1875/1875 [==============================] - 12s 6ms/step - loss: 0.2379 - accuracy: 0.9298\n",
            "Epoch 2/5\n",
            "1875/1875 [==============================] - 10s 6ms/step - loss: 0.1047 - accuracy: 0.9679\n",
            "Epoch 3/5\n",
            "1875/1875 [==============================] - 8s 4ms/step - loss: 0.0741 - accuracy: 0.9772\n",
            "Epoch 4/5\n",
            "1875/1875 [==============================] - 7s 4ms/step - loss: 0.0566 - accuracy: 0.9820\n",
            "Epoch 5/5\n",
            "1875/1875 [==============================] - 8s 5ms/step - loss: 0.0421 - accuracy: 0.9861\n",
            "313/313 [==============================] - 1s 2ms/step - loss: 0.0796 - accuracy: 0.9765\n",
            "Exactitud de predicción en el conjunto de prueba: 0.9764999747276306\n",
            "1/1 [==============================] - 0s 86ms/step\n",
            "Predicción: 7 | Valor real: 7\n",
            "Predicción: 2 | Valor real: 2\n",
            "Predicción: 1 | Valor real: 1\n",
            "Predicción: 0 | Valor real: 0\n",
            "Predicción: 4 | Valor real: 4\n"
          ]
        }
      ],
      "source": [
        "#Actividad 5: Uso de Software para busqueda - Luis Alonso Quintanilla Rodriguez - 1960037 - N4\n",
        "import tensorflow as tf\n",
        "from tensorflow.keras.datasets import mnist\n",
        "\n",
        "# Conjunto de datos MNIST\n",
        "(train_data, train_labels), (test_data, test_labels) = mnist.load_data()\n",
        "\n",
        "# Normalizar los datos\n",
        "train_data = train_data / 255.0\n",
        "test_data = test_data / 255.0\n",
        "\n",
        "# Definir la arquitectura de la red neuronal\n",
        "model = tf.keras.models.Sequential([\n",
        "    tf.keras.layers.Flatten(input_shape=(28, 28)),\n",
        "    tf.keras.layers.Dense(128, activation='relu'),\n",
        "    tf.keras.layers.Dense(64, activation='relu'),\n",
        "    tf.keras.layers.Dense(10, activation='softmax')\n",
        "])\n",
        "\n",
        "# Compilar el modelo\n",
        "model.compile(optimizer='adam',\n",
        "              loss='sparse_categorical_crossentropy',\n",
        "              metrics=['accuracy'])\n",
        "\n",
        "# Entrenar el modelo\n",
        "model.fit(train_data, train_labels, epochs=5)\n",
        "\n",
        "# Evaluar el modelo con el conjunto de datos de prueba\n",
        "test_loss, test_accuracy = model.evaluate(test_data, test_labels)\n",
        "print(\"Exactitud de predicción en el conjunto de prueba:\", test_accuracy)\n",
        "\n",
        "# Realizar 5 predicciones y mostrar el resultado\n",
        "predictions = model.predict(test_data[:5])\n",
        "for i in range(5):\n",
        "    predicted_label = tf.argmax(predictions[i]).numpy()\n",
        "    true_label = test_labels[i]\n",
        "    print(\"Predicción:\", predicted_label, \"| Valor real:\", true_label)\n"
      ]
    }
  ]
}