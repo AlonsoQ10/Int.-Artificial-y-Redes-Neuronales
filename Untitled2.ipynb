{
  "nbformat": 4,
  "nbformat_minor": 0,
  "metadata": {
    "colab": {
      "provenance": [],
      "authorship_tag": "ABX9TyNI1fP2jb2PYQNwcAtgQfXK",
      "include_colab_link": true
    },
    "kernelspec": {
      "name": "python3",
      "display_name": "Python 3"
    },
    "language_info": {
      "name": "python"
    }
  },
  "cells": [
    {
      "cell_type": "markdown",
      "metadata": {
        "id": "view-in-github",
        "colab_type": "text"
      },
      "source": [
        "<a href=\"https://colab.research.google.com/github/AlonsoQ10/Int.-Artificial-y-Redes-Neuronales/blob/main/Untitled2.ipynb\" target=\"_parent\"><img src=\"https://colab.research.google.com/assets/colab-badge.svg\" alt=\"Open In Colab\"/></a>"
      ]
    },
    {
      "cell_type": "markdown",
      "source": [
        "Actividad 2: Diseño de algoritmos en Python\n",
        "Luis Alonso Quintanilla Rodriguez - 1960037 - N4"
      ],
      "metadata": {
        "id": "GMGU0ydLqeru"
      }
    },
    {
      "cell_type": "code",
      "source": [
        "def saludar():\n",
        "    nombre = input(\"Por favor, ingresa tu nombre: \")\n",
        "    nombres_feos = [\"Ana\", \"Juan\", \"Pedro\"]\n",
        "\n",
        "    if nombre in nombres_feos:\n",
        "        print(\"Hola, Inge\")\n",
        "    else:\n",
        "        print(\"Hola, \" + nombre )\n",
        "\n",
        "saludar()\n"
      ],
      "metadata": {
        "colab": {
          "base_uri": "https://localhost:8080/"
        },
        "id": "fLqFRRybr3mj",
        "outputId": "10de9773-31a0-42de-c271-b10e7fc6ff1a"
      },
      "execution_count": 30,
      "outputs": [
        {
          "output_type": "stream",
          "name": "stdout",
          "text": [
            "Por favor, ingresa tu nombre: Ana\n",
            "Hola, Inge\n"
          ]
        }
      ]
    },
    {
      "cell_type": "code",
      "source": [
        "def invertir_lista():\n",
        "    n = int(input(\"Ingrese la cantidad de productos a comprar: \"))\n",
        "\n",
        "    lista = []\n",
        "    print(\"Ingrese los productos de la lista, uno por uno:\")\n",
        "    for i in range(n):\n",
        "        elemento = input(\"Producto {}: \".format(i+1))\n",
        "        lista.append(elemento)\n",
        "\n",
        "    lista_invertida = lista[::-1]\n",
        "\n",
        "    print(\"La lista invertida es:\")\n",
        "    print(lista_invertida)\n",
        "\n",
        "invertir_lista()\n"
      ],
      "metadata": {
        "colab": {
          "base_uri": "https://localhost:8080/"
        },
        "id": "vZ60AxZj1FYA",
        "outputId": "19fa1897-5112-4ca1-c216-96df64892a02"
      },
      "execution_count": 58,
      "outputs": [
        {
          "output_type": "stream",
          "name": "stdout",
          "text": [
            "Ingrese la cantidad de productos a comprar: 3\n",
            "Ingrese los productos de la lista, uno por uno:\n",
            "Producto 1: Coca Cola\n",
            "Producto 2: Tortillas \n",
            "Producto 3: Leche\n",
            "La lista invertida es:\n",
            "['Leche', 'Tortillas ', 'Coca Cola']\n"
          ]
        }
      ]
    },
    {
      "cell_type": "code",
      "source": [
        "\n",
        "n=int(input(\"¿Cuántos números de la serie de Fibonacci quieres generar? \"))\n",
        "\n",
        "a=0\n",
        "b=1\n",
        "sum=0\n",
        "count=1\n",
        "print(\"La Serie de Fibonacci es\")\n",
        "\n",
        "while(count<=n):\n",
        "  print(sum)\n",
        "  count+=1\n",
        "  a=b\n",
        "  b=sum\n",
        "  sum=a+b\n"
      ],
      "metadata": {
        "colab": {
          "base_uri": "https://localhost:8080/"
        },
        "id": "IlYuubcO5FVd",
        "outputId": "8f958d63-c0e8-4412-cedd-dee266cc2615"
      },
      "execution_count": 79,
      "outputs": [
        {
          "output_type": "stream",
          "name": "stdout",
          "text": [
            "¿Cuántos números de la serie de Fibonacci quieres generar? 8\n",
            "La Serie de Fibonacci es\n",
            "0\n",
            "1\n",
            "1\n",
            "2\n",
            "3\n",
            "5\n",
            "8\n",
            "13\n"
          ]
        }
      ]
    },
    {
      "cell_type": "code",
      "source": [
        "import random\n",
        "\n",
        "def juego_adivina_numero():\n",
        "\n",
        "    numero_objetivo = random.randint(1, 100)\n",
        "\n",
        "    print(\"¡Bienvenido al juego de adivinar el número!\")\n",
        "    intentos = 0\n",
        "\n",
        "    while True:\n",
        "        intento = int(input(\"Ingresa un número entre 1 y 100: \"))\n",
        "        intentos += 1\n",
        "\n",
        "        if intento < numero_objetivo:\n",
        "            print(\"El número que buscas es mayor.\")\n",
        "        elif intento > numero_objetivo:\n",
        "            print(\"El número que buscas es menor.\")\n",
        "        else:\n",
        "            print(\"¡Felicidades Has adivinado el número!\")\n",
        "            break\n",
        "\n",
        "if __name__ == \"__main__\":\n",
        "    juego_adivina_numero()\n"
      ],
      "metadata": {
        "colab": {
          "base_uri": "https://localhost:8080/"
        },
        "id": "ARF122u36q2V",
        "outputId": "9cae200e-b0bf-47e5-db1e-123c7a566f9e"
      },
      "execution_count": 90,
      "outputs": [
        {
          "output_type": "stream",
          "name": "stdout",
          "text": [
            "¡Bienvenido al juego de adivinar el número!\n",
            "Ingresa un número entre 1 y 100: 50\n",
            "El número que buscas es mayor.\n",
            "Ingresa un número entre 1 y 100: 70\n",
            "El número que buscas es mayor.\n",
            "Ingresa un número entre 1 y 100: 80\n",
            "El número que buscas es menor.\n",
            "Ingresa un número entre 1 y 100: 74\n",
            "El número que buscas es mayor.\n",
            "Ingresa un número entre 1 y 100: 77\n",
            "El número que buscas es mayor.\n",
            "Ingresa un número entre 1 y 100: 79\n",
            "¡Felicidades Has adivinado el número!\n"
          ]
        }
      ]
    },
    {
      "cell_type": "code",
      "source": [
        "def es_primo(numero):\n",
        "    if numero <= 1:\n",
        "        return False\n",
        "    elif numero <= 3:\n",
        "        return True\n",
        "    elif numero % 2 == 0 or numero % 3 == 0:\n",
        "        return False\n",
        "    i = 5\n",
        "    while i * i <= numero:\n",
        "        if numero % i == 0 or numero % (i + 2) == 0:\n",
        "            return False\n",
        "        i += 6\n",
        "    return True\n",
        "\n",
        "def numeros_primos_en_rango():\n",
        "    inicio = int(input(\"Ingresa el número inicial del rango: \"))\n",
        "    fin = int(input(\"Ingresa el número final del rango: \"))\n",
        "\n",
        "    print(f\"Los números primos en el rango de {inicio} a {fin} son:\")\n",
        "\n",
        "    for numero in range(inicio, fin + 1):\n",
        "        if es_primo(numero):\n",
        "            print(numero, end=\" \")\n",
        "\n",
        "if __name__ == \"__main__\":\n",
        "    numeros_primos_en_rango()\n"
      ],
      "metadata": {
        "colab": {
          "base_uri": "https://localhost:8080/"
        },
        "id": "zXna6D_f9MSh",
        "outputId": "3b152ab7-7cea-487c-9e14-aeaef5181eeb"
      },
      "execution_count": 94,
      "outputs": [
        {
          "output_type": "stream",
          "name": "stdout",
          "text": [
            "Ingresa el número inicial del rango: 1\n",
            "Ingresa el número final del rango: 100\n",
            "Los números primos en el rango de 1 a 100 son:\n",
            "2 3 5 7 11 13 17 19 23 29 31 37 41 43 47 53 59 61 67 71 73 79 83 89 97 "
          ]
        }
      ]
    },
    {
      "cell_type": "code",
      "source": [
        "def suma(a, b):\n",
        "    return a + b\n",
        "\n",
        "def resta(a, b):\n",
        "    return a - b\n",
        "\n",
        "def multiplicacion(a, b):\n",
        "    return a * b\n",
        "\n",
        "def division(a, b):\n",
        "    if b != 0:\n",
        "        return a / b\n",
        "\n",
        "\n",
        "def calculadora_basica():\n",
        "    try:\n",
        "        num1 = float(input(\"Ingresa el primer número: \"))\n",
        "        num2 = float(input(\"Ingresa el segundo número: \"))\n",
        "\n",
        "        print(\"1. Suma\")\n",
        "        print(\"2. Resta\")\n",
        "        print(\"3. Multiplicación\")\n",
        "        print(\"4. División\")\n",
        "\n",
        "        opcion = int(input(\"Selecciona la operación que deseas realizar (1/2/3/4): \"))\n",
        "\n",
        "        if opcion == 1:\n",
        "            print(\"El resultado de la suma es:\", suma(num1, num2))\n",
        "        elif opcion == 2:\n",
        "            print(\"El resultado de la resta es:\", resta(num1, num2))\n",
        "        elif opcion == 3:\n",
        "            print(\"El resultado de la multiplicación es:\", multiplicacion(num1, num2))\n",
        "        elif opcion == 4:\n",
        "            print(\"El resultado de la división es:\", division(num1, num2))\n",
        "\n",
        "    except ValueError:\n",
        "        print(\"Por favor, ingresa números válidos.\")\n",
        "\n",
        "\n",
        "if __name__ == \"__main__\":\n",
        "    calculadora_basica()\n"
      ],
      "metadata": {
        "colab": {
          "base_uri": "https://localhost:8080/"
        },
        "id": "8M984n_B-AgN",
        "outputId": "bb3702b3-fefa-478d-fd3c-82e882c3c055"
      },
      "execution_count": 99,
      "outputs": [
        {
          "output_type": "stream",
          "name": "stdout",
          "text": [
            "Ingresa el primer número: 10\n",
            "Ingresa el segundo número: 3\n",
            "1. Suma\n",
            "2. Resta\n",
            "3. Multiplicación\n",
            "4. División\n",
            "Selecciona la operación que deseas realizar (1/2/3/4): 1\n",
            "El resultado de la suma es: 13.0\n"
          ]
        }
      ]
    }
  ]
}